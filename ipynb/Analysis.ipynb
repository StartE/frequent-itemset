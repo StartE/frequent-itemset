{
 "cells": [
  {
   "cell_type": "code",
   "execution_count": 27,
   "metadata": {},
   "outputs": [],
   "source": [
    "%matplotlib inline\n",
    "\n",
    "import matplotlib\n",
    "import numpy as np\n",
    "import matplotlib.pyplot as plt\n",
    "import pandas as pd\n"
   ]
  },
  {
   "cell_type": "code",
   "execution_count": 48,
   "metadata": {},
   "outputs": [],
   "source": [
    "df = pd.read_csv('../src/data_pd.csv',dtype=object)"
   ]
  },
  {
   "cell_type": "code",
   "execution_count": 49,
   "metadata": {},
   "outputs": [
    {
     "data": {
      "text/html": [
       "<div>\n",
       "<style scoped>\n",
       "    .dataframe tbody tr th:only-of-type {\n",
       "        vertical-align: middle;\n",
       "    }\n",
       "\n",
       "    .dataframe tbody tr th {\n",
       "        vertical-align: top;\n",
       "    }\n",
       "\n",
       "    .dataframe thead th {\n",
       "        text-align: right;\n",
       "    }\n",
       "</style>\n",
       "<table border=\"1\" class=\"dataframe\">\n",
       "  <thead>\n",
       "    <tr style=\"text-align: right;\">\n",
       "      <th></th>\n",
       "      <th>trans</th>\n",
       "    </tr>\n",
       "  </thead>\n",
       "  <tbody>\n",
       "    <tr>\n",
       "      <th>0</th>\n",
       "      <td>['D3', 'A3']</td>\n",
       "    </tr>\n",
       "    <tr>\n",
       "      <th>1</th>\n",
       "      <td>['E3', 'D3', 'A3']</td>\n",
       "    </tr>\n",
       "    <tr>\n",
       "      <th>2</th>\n",
       "      <td>['E3', 'A3', 'C3']</td>\n",
       "    </tr>\n",
       "    <tr>\n",
       "      <th>3</th>\n",
       "      <td>['A3', 'E3', 'D3', 'B3']</td>\n",
       "    </tr>\n",
       "    <tr>\n",
       "      <th>4</th>\n",
       "      <td>['E3', 'B3', 'C3', 'D3', 'A3']</td>\n",
       "    </tr>\n",
       "  </tbody>\n",
       "</table>\n",
       "</div>"
      ],
      "text/plain": [
       "                            trans\n",
       "0                    ['D3', 'A3']\n",
       "1              ['E3', 'D3', 'A3']\n",
       "2              ['E3', 'A3', 'C3']\n",
       "3        ['A3', 'E3', 'D3', 'B3']\n",
       "4  ['E3', 'B3', 'C3', 'D3', 'A3']"
      ]
     },
     "execution_count": 49,
     "metadata": {},
     "output_type": "execute_result"
    }
   ],
   "source": [
    "df.head()"
   ]
  },
  {
   "cell_type": "code",
   "execution_count": 51,
   "metadata": {},
   "outputs": [],
   "source": [
    "def if_contention(x):\n",
    "    for item in x:\n",
    "        if '1' in item:\n",
    "            return 1\n",
    "    return 0\n",
    "df['if-contention'] = df['trans'].apply(if_contention)"
   ]
  },
  {
   "cell_type": "code",
   "execution_count": 53,
   "metadata": {},
   "outputs": [
    {
     "data": {
      "text/html": [
       "<div>\n",
       "<style scoped>\n",
       "    .dataframe tbody tr th:only-of-type {\n",
       "        vertical-align: middle;\n",
       "    }\n",
       "\n",
       "    .dataframe tbody tr th {\n",
       "        vertical-align: top;\n",
       "    }\n",
       "\n",
       "    .dataframe thead th {\n",
       "        text-align: right;\n",
       "    }\n",
       "</style>\n",
       "<table border=\"1\" class=\"dataframe\">\n",
       "  <thead>\n",
       "    <tr style=\"text-align: right;\">\n",
       "      <th></th>\n",
       "      <th>trans</th>\n",
       "      <th>if-contention</th>\n",
       "    </tr>\n",
       "  </thead>\n",
       "  <tbody>\n",
       "    <tr>\n",
       "      <th>0</th>\n",
       "      <td>['D3', 'A3']</td>\n",
       "      <td>0</td>\n",
       "    </tr>\n",
       "    <tr>\n",
       "      <th>1</th>\n",
       "      <td>['E3', 'D3', 'A3']</td>\n",
       "      <td>0</td>\n",
       "    </tr>\n",
       "    <tr>\n",
       "      <th>2</th>\n",
       "      <td>['E3', 'A3', 'C3']</td>\n",
       "      <td>0</td>\n",
       "    </tr>\n",
       "    <tr>\n",
       "      <th>3</th>\n",
       "      <td>['A3', 'E3', 'D3', 'B3']</td>\n",
       "      <td>0</td>\n",
       "    </tr>\n",
       "    <tr>\n",
       "      <th>4</th>\n",
       "      <td>['E3', 'B3', 'C3', 'D3', 'A3']</td>\n",
       "      <td>0</td>\n",
       "    </tr>\n",
       "  </tbody>\n",
       "</table>\n",
       "</div>"
      ],
      "text/plain": [
       "                            trans  if-contention\n",
       "0                    ['D3', 'A3']              0\n",
       "1              ['E3', 'D3', 'A3']              0\n",
       "2              ['E3', 'A3', 'C3']              0\n",
       "3        ['A3', 'E3', 'D3', 'B3']              0\n",
       "4  ['E3', 'B3', 'C3', 'D3', 'A3']              0"
      ]
     },
     "execution_count": 53,
     "metadata": {},
     "output_type": "execute_result"
    }
   ],
   "source": [
    "df.head()"
   ]
  },
  {
   "cell_type": "code",
   "execution_count": 54,
   "metadata": {},
   "outputs": [],
   "source": [
    "df_c = df[df['if-contention'] == 1]"
   ]
  },
  {
   "cell_type": "code",
   "execution_count": 61,
   "metadata": {},
   "outputs": [
    {
     "data": {
      "text/plain": [
       "['B1', 'B2']                            35\n",
       "['A1', 'A2']                            33\n",
       "['D1', 'D2']                            32\n",
       "['D1', 'D2', 'B2']                      14\n",
       "['D1', 'D2', 'A2']                      14\n",
       "['A1', 'A2', 'D2']                      14\n",
       "['C2', 'D1', 'D2']                      12\n",
       "['B2', 'C1', 'C2']                      11\n",
       "['A1', 'A2', 'C2']                       9\n",
       "['B1', 'B2', 'D2']                       9\n",
       "['A2', 'B1', 'B2']                       9\n",
       "['B1', 'B2', 'A2']                       8\n",
       "['A1', 'A2', 'B2']                       8\n",
       "['B1', 'B2', 'C2']                       8\n",
       "['A2', 'D1', 'D2', 'B2']                 8\n",
       "['D1', 'D2', 'C2']                       8\n",
       "['A2', 'C1', 'C2']                       8\n",
       "['A2', 'D1', 'D2']                       8\n",
       "['C2', 'B1', 'B2']                       8\n",
       "['C1', 'C2', 'B2']                       8\n",
       "['C1', 'C2', 'A2']                       6\n",
       "['D2', 'A1', 'A2']                       6\n",
       "['E2', 'C1', 'C2', 'D2']                 6\n",
       "['D2', 'C2', 'E1', 'E2']                 6\n",
       "['B2', 'A1', 'A2']                       6\n",
       "['C1', 'C2', 'D2']                       6\n",
       "['D2', 'C1', 'C2']                       6\n",
       "['C2', 'A1', 'A2']                       5\n",
       "['A2', 'C1', 'C2', 'B2']                 5\n",
       "['B2', 'D1', 'D2']                       5\n",
       "                                        ..\n",
       "['F2', 'B2', 'A2', 'D2', 'E1', 'E2']     1\n",
       "['C2', 'E1', 'E2', 'A2', 'D2']           1\n",
       "['B2', 'D2', 'E1', 'E2', 'A2']           1\n",
       "['B1', 'B2', 'C2', 'A2', 'F2', 'D2']     1\n",
       "['F2', 'B2', 'C2', 'A1', 'A2', 'D2']     1\n",
       "['B1', 'B2', 'E2', 'A2', 'D2']           1\n",
       "['D1', 'D2', 'C2', 'B2', 'A2']           1\n",
       "['B2', 'E1', 'E2', 'A2', 'D2']           1\n",
       "['C2', 'D2', 'A2', 'E1', 'E2']           1\n",
       "['C2', 'A2', 'D1', 'D2', 'B2']           1\n",
       "['D2', 'A1', 'A2', 'E2']                 1\n",
       "['B1', 'B2', 'F2', 'D2', 'E2', 'C2']     1\n",
       "['A2', 'E2', 'C1', 'C2', 'B2']           1\n",
       "['E1', 'E2', 'A2', 'D2', 'C2', 'F2']     1\n",
       "['A2', 'E2', 'B1', 'B2', 'C2']           1\n",
       "['C2', 'A2', 'B1', 'B2', 'E2']           1\n",
       "['B1', 'B2', 'D2', 'E2', 'A2']           1\n",
       "['C2', 'D2', 'E2', 'A1', 'A2', 'F2']     1\n",
       "['C2', 'A1', 'A2', 'D2']                 1\n",
       "['E2', 'D2', 'B2', 'C1', 'C2']           1\n",
       "['A2', 'B1', 'B2', 'C2']                 1\n",
       "['A2', 'C2', 'B1', 'B2', 'D2']           1\n",
       "['C2', 'B1', 'B2', 'A2', 'D2']           1\n",
       "['B1', 'B2', 'A2', 'D2', 'C2']           1\n",
       "['C2', 'B2', 'E1', 'E2']                 1\n",
       "['F2', 'D2', 'C1', 'C2', 'E2', 'B2']     1\n",
       "['A2', 'D2', 'B1', 'B2', 'E2']           1\n",
       "['E2', 'D2', 'A2', 'B1', 'B2']           1\n",
       "['A2', 'E2', 'B1', 'B2', 'D2']           1\n",
       "['C1', 'C2', 'B2', 'E2', 'D2']           1\n",
       "Name: trans, Length: 576, dtype: int64"
      ]
     },
     "execution_count": 61,
     "metadata": {},
     "output_type": "execute_result"
    }
   ],
   "source": [
    "df_c['trans'].value_counts()"
   ]
  },
  {
   "cell_type": "code",
   "execution_count": null,
   "metadata": {},
   "outputs": [],
   "source": []
  }
 ],
 "metadata": {
  "kernelspec": {
   "display_name": "Python 3",
   "language": "python",
   "name": "python3"
  },
  "language_info": {
   "codemirror_mode": {
    "name": "ipython",
    "version": 3
   },
   "file_extension": ".py",
   "mimetype": "text/x-python",
   "name": "python",
   "nbconvert_exporter": "python",
   "pygments_lexer": "ipython3",
   "version": "3.6.5"
  }
 },
 "nbformat": 4,
 "nbformat_minor": 2
}
